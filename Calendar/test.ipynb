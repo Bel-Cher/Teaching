{
 "cells": [
  {
   "cell_type": "code",
   "execution_count": 2,
   "metadata": {},
   "outputs": [],
   "source": [
    "from reportlab.lib import colors\n",
    "from reportlab.lib.pagesizes import letter, inch\n",
    "from reportlab.platypus import SimpleDocTemplate, Table, TableStyle\n",
    "\n",
    "doc = SimpleDocTemplate(\"simple_table_grid.pdf\", pagesize=letter)\n",
    "# container for the 'Flowable' objects\n",
    "elements = []\n",
    "\n",
    "data= [['00', '01', '02', '03', '04'],\n",
    "['10', '11', '12', '13', '14'],\n",
    "['20', '21', '22', '23', '24'],\n",
    "['30', '31', '32', '33', '34']]\n",
    "t=Table(data,5*[0.4*inch], 4*[0.4*inch])\n",
    "t.setStyle(TableStyle([('ALIGN',(1,1),(-2,-2),'RIGHT'),\n",
    "('TEXTCOLOR',(1,1),(-2,-2),colors.red),\n",
    "('VALIGN',(0,0),(0,-1),'TOP'),\n",
    "('TEXTCOLOR',(0,0),(0,-1),colors.blue),\n",
    "('ALIGN',(0,-1),(-1,-1),'CENTER'),\n",
    "('VALIGN',(0,-1),(-1,-1),'MIDDLE'),\n",
    "('TEXTCOLOR',(0,-1),(-1,-1),colors.green),\n",
    "('INNERGRID', (0,0), (-1,-1), 0.25, colors.black),\n",
    "('BOX', (0,0), (-1,-1), 0.25, colors.black),\n",
    "]))\n",
    "\n",
    "elements.append(t)\n",
    "# write the document to disk\n",
    "doc.build(elements)"
   ]
  }
 ],
 "metadata": {
  "interpreter": {
   "hash": "916dbcbb3f70747c44a77c7bcd40155683ae19c65e1c03b4aa3499c5328201f1"
  },
  "kernelspec": {
   "display_name": "Python 3.8.10 64-bit",
   "language": "python",
   "name": "python3"
  },
  "language_info": {
   "codemirror_mode": {
    "name": "ipython",
    "version": 3
   },
   "file_extension": ".py",
   "mimetype": "text/x-python",
   "name": "python",
   "nbconvert_exporter": "python",
   "pygments_lexer": "ipython3",
   "version": "3.8.10"
  },
  "orig_nbformat": 4
 },
 "nbformat": 4,
 "nbformat_minor": 2
}
