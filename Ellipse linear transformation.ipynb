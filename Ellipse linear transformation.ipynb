{
 "cells": [
  {
   "cell_type": "code",
   "execution_count": 2,
   "metadata": {},
   "outputs": [
    {
     "data": {
      "text/latex": [
       "$\\displaystyle \\left[\\begin{matrix}\\frac{1}{4} & 0\\\\0 & \\frac{1}{9}\\end{matrix}\\right]$"
      ],
      "text/plain": [
       "Matrix([\n",
       "[1/4,   0],\n",
       "[  0, 1/9]])"
      ]
     },
     "metadata": {},
     "output_type": "display_data"
    },
    {
     "data": {
      "text/latex": [
       "$\\displaystyle \\left[\\begin{matrix}\\frac{\\sqrt{2}}{2} & \\frac{\\sqrt{2}}{2}\\\\\\frac{\\sqrt{2}}{2} & - \\frac{\\sqrt{2}}{2}\\end{matrix}\\right]$"
      ],
      "text/plain": [
       "Matrix([\n",
       "[sqrt(2)/2,  sqrt(2)/2],\n",
       "[sqrt(2)/2, -sqrt(2)/2]])"
      ]
     },
     "metadata": {},
     "output_type": "display_data"
    },
    {
     "name": "stdout",
     "output_type": "stream",
     "text": [
      "The region R given by:\n"
     ]
    },
    {
     "data": {
      "text/latex": [
       "$\\displaystyle \\frac{13 x^{2}}{72} + \\frac{5 x y}{36} + \\frac{13 y^{2}}{72} = 1$"
      ],
      "text/plain": [
       "Eq(13*x**2/72 + 5*x*y/36 + 13*y**2/72, 1)"
      ]
     },
     "metadata": {},
     "output_type": "display_data"
    },
    {
     "name": "stdout",
     "output_type": "stream",
     "text": [
      "Apply the transformation\n"
     ]
    },
    {
     "data": {
      "text/latex": [
       "$\\displaystyle \\left[\\begin{matrix}x\\\\y\\end{matrix}\\right]=\\left[\\begin{matrix}\\frac{\\sqrt{2}}{2} & \\frac{\\sqrt{2}}{2}\\\\\\frac{\\sqrt{2}}{2} & - \\frac{\\sqrt{2}}{2}\\end{matrix}\\right]\\left[\\begin{matrix}u\\\\v\\end{matrix}\\right]$"
      ],
      "text/plain": [
       "<IPython.core.display.Math object>"
      ]
     },
     "metadata": {},
     "output_type": "display_data"
    },
    {
     "name": "stdout",
     "output_type": "stream",
     "text": [
      "to get the region\n"
     ]
    },
    {
     "data": {
      "text/latex": [
       "$\\displaystyle \\frac{u^{2}}{4} + \\frac{v^{2}}{9} = 1$"
      ],
      "text/plain": [
       "Eq(u**2/4 + v**2/9, 1)"
      ]
     },
     "metadata": {},
     "output_type": "display_data"
    }
   ],
   "source": [
    "from sympy import *\n",
    "'''Matrices'''\n",
    "# Matrices\n",
    "D = nsimplify(Matrix([[Rational(1,4),0],[0,1/9]]), tolerance = 0.001, rational = True)\n",
    "O = nsimplify(Matrix([[1/sqrt(2), 1/sqrt(2)],[1/sqrt(2),-1/sqrt(2)]]),tolerance = 0.001, rational = True)\n",
    "\n",
    "display(D)\n",
    "display(O)\n",
    "\n",
    "\n",
    "'''Functions and Euclidean transformations of the plane'''\n",
    "from IPython.display import Math, display\n",
    "\n",
    "f = Function('f')\n",
    "g = Function('g')\n",
    "\n",
    "# Defining symbols\n",
    "x, y, z = symbols('x y z')\n",
    "x, y, z = symbols('x:z')\n",
    "\n",
    "u, v, w = symbols('u:w')\n",
    "\n",
    "# Vectors\n",
    "rx = Matrix([x, y])\n",
    "ru = Matrix([u, v])\n",
    "\n",
    "#f = trace(rx.T*D*rx)\n",
    "\n",
    "# Defining a surface based on an equation\n",
    "R = nsimplify(expand(Eq(trace(ru.T*O.T*D*O*ru),1)))\n",
    "R = R.subs([(u,x),(v,y)])\n",
    "\n",
    "F = expand(R.subs([ (x, (O*ru)[0]), (y, (O*ru)[1]) ]))\n",
    "\n",
    "\n",
    "print('The region R given by:')\n",
    "display(R)\n",
    "\n",
    "print('Apply the transformation')\n",
    "display(Math(latex(rx)+'='+latex(O)+latex(ru)))\n",
    "\n",
    "print('to get the region')\n",
    "display(F)\n"
   ]
  },
  {
   "cell_type": "code",
   "execution_count": 30,
   "metadata": {},
   "outputs": [
    {
     "data": {
      "text/latex": [
       "$\\displaystyle \\left[\\begin{matrix}\\frac{1}{4} & 0\\\\0 & \\frac{1}{9}\\end{matrix}\\right]$"
      ],
      "text/plain": [
       "Matrix([\n",
       "[1/4,   0],\n",
       "[  0, 1/9]])"
      ]
     },
     "metadata": {},
     "output_type": "display_data"
    },
    {
     "data": {
      "text/latex": [
       "$\\displaystyle \\left[\\begin{matrix}\\frac{\\sqrt{2}}{2} & \\frac{\\sqrt{2}}{2}\\\\\\frac{\\sqrt{2}}{2} & - \\frac{\\sqrt{2}}{2}\\end{matrix}\\right]$"
      ],
      "text/plain": [
       "Matrix([\n",
       "[sqrt(2)/2,  sqrt(2)/2],\n",
       "[sqrt(2)/2, -sqrt(2)/2]])"
      ]
     },
     "metadata": {},
     "output_type": "display_data"
    },
    {
     "data": {
      "text/latex": [
       "$\\displaystyle \\left[\\begin{matrix}2 & 0\\\\0 & 3\\end{matrix}\\right]$"
      ],
      "text/plain": [
       "Matrix([\n",
       "[2, 0],\n",
       "[0, 3]])"
      ]
     },
     "metadata": {},
     "output_type": "display_data"
    },
    {
     "data": {
      "text/latex": [
       "$\\displaystyle \\left[\\begin{matrix}\\sqrt{2} & \\frac{3 \\sqrt{2}}{2}\\\\\\sqrt{2} & - \\frac{3 \\sqrt{2}}{2}\\end{matrix}\\right]$"
      ],
      "text/plain": [
       "Matrix([\n",
       "[sqrt(2),  3*sqrt(2)/2],\n",
       "[sqrt(2), -3*sqrt(2)/2]])"
      ]
     },
     "metadata": {},
     "output_type": "display_data"
    },
    {
     "name": "stdout",
     "output_type": "stream",
     "text": [
      "The region R given by:\n"
     ]
    },
    {
     "data": {
      "text/latex": [
       "$\\displaystyle \\frac{13 x^{2}}{72} + \\frac{5 x y}{36} + \\frac{13 y^{2}}{72} = 1$"
      ],
      "text/plain": [
       "Eq(13*x**2/72 + 5*x*y/36 + 13*y**2/72, 1)"
      ]
     },
     "metadata": {},
     "output_type": "display_data"
    },
    {
     "name": "stdout",
     "output_type": "stream",
     "text": [
      "Apply the transformation\n"
     ]
    },
    {
     "data": {
      "text/latex": [
       "$\\displaystyle \\left[\\begin{matrix}x\\\\y\\end{matrix}\\right]=\\left[\\begin{matrix}\\frac{\\sqrt{2}}{2} & \\frac{\\sqrt{2}}{2}\\\\\\frac{\\sqrt{2}}{2} & - \\frac{\\sqrt{2}}{2}\\end{matrix}\\right]\\left[\\begin{matrix}u\\\\v\\end{matrix}\\right]$"
      ],
      "text/plain": [
       "<IPython.core.display.Math object>"
      ]
     },
     "metadata": {},
     "output_type": "display_data"
    },
    {
     "name": "stdout",
     "output_type": "stream",
     "text": [
      "to get the region\n"
     ]
    },
    {
     "data": {
      "text/latex": [
       "$\\displaystyle \\frac{u^{2}}{4} + \\frac{v^{2}}{9} = 1$"
      ],
      "text/plain": [
       "Eq(u**2/4 + v**2/9, 1)"
      ]
     },
     "metadata": {},
     "output_type": "display_data"
    },
    {
     "data": {
      "text/latex": [
       "$\\displaystyle \\frac{u^{2}}{4} + \\frac{v^{2}}{9} = 1$"
      ],
      "text/plain": [
       "Eq(u**2/4 + v**2/9, 1)"
      ]
     },
     "metadata": {},
     "output_type": "display_data"
    },
    {
     "name": "stdout",
     "output_type": "stream",
     "text": [
      "Apply the transformation\n"
     ]
    },
    {
     "data": {
      "text/latex": [
       "$\\displaystyle \\left[\\begin{matrix}u\\\\v\\end{matrix}\\right]=\\left[\\begin{matrix}2 & 0\\\\0 & 3\\end{matrix}\\right]\\left[\\begin{matrix}s\\\\t\\end{matrix}\\right]$"
      ],
      "text/plain": [
       "<IPython.core.display.Math object>"
      ]
     },
     "metadata": {},
     "output_type": "display_data"
    },
    {
     "name": "stdout",
     "output_type": "stream",
     "text": [
      "to get the region\n"
     ]
    },
    {
     "data": {
      "text/latex": [
       "$\\displaystyle s^{2} + t^{2} = 1$"
      ],
      "text/plain": [
       "Eq(s**2 + t**2, 1)"
      ]
     },
     "metadata": {},
     "output_type": "display_data"
    },
    {
     "data": {
      "text/latex": [
       "$\\displaystyle s^{2} + t^{2} = 1$"
      ],
      "text/plain": [
       "Eq(s**2 + t**2, 1)"
      ]
     },
     "metadata": {},
     "output_type": "display_data"
    },
    {
     "data": {
      "text/latex": [
       "$\\displaystyle s^{2} + t^{2} = 1$"
      ],
      "text/plain": [
       "Eq(s**2 + t**2, 1)"
      ]
     },
     "metadata": {},
     "output_type": "display_data"
    }
   ],
   "source": [
    "from sympy import *\n",
    "'''Matrices'''\n",
    "# Matrices\n",
    "D = nsimplify(Matrix([[Rational(1,4),0],[0,1/9]]), tolerance = 0.001, rational = True)\n",
    "O = nsimplify(Matrix([[1/sqrt(2), 1/sqrt(2)],[1/sqrt(2),-1/sqrt(2)]]),tolerance = 0.001, rational = True)\n",
    "T = nsimplify(Matrix([[2,0],[0,3]]), tolerance = 0.001, rational = True)\n",
    "A = O**(-1)*T\n",
    "\n",
    "display(D)\n",
    "display(O)\n",
    "display(T)\n",
    "display(A)\n",
    "\n",
    "'''Functions and Euclidean transformations of the plane'''\n",
    "from IPython.display import Math, display\n",
    "\n",
    "f = Function('f')\n",
    "g = Function('g')\n",
    "\n",
    "# Defining symbols\n",
    "x, y = symbols('x:y')\n",
    "u, v = symbols('u:v')\n",
    "s, t = symbols('s:t')\n",
    "\n",
    "# Vectors\n",
    "rx = Matrix([x, y])\n",
    "ru = Matrix([u, v])\n",
    "rs = Matrix([s, t])\n",
    "\n",
    "#f = trace(rx.T*D*rx)\n",
    "\n",
    "# Defining a surface based on an equation\n",
    "R = nsimplify(expand(Eq(trace(rx.T*O.T*D*O*rx),1)))\n",
    "\n",
    "E = expand(R.subs([ (x, (O**(-1)*ru)[0]), (y, (O**(-1)*ru)[1]) ]))\n",
    "EE = nsimplify(expand(Eq(trace(ru.T*D*ru),1)))\n",
    "\n",
    "F = expand(E.subs([ (u, (T*rs)[0]), (v, (T*rs)[1]) ]))\n",
    "FF = nsimplify(expand(Eq(trace(rs.T*T.T*D*T*rs),1)))\n",
    "FFF = expand(R.subs([ (x, (A*rs)[0]), (y, (A*rs)[1]) ]))\n",
    "\n",
    "print('The region R given by:')\n",
    "display(R)\n",
    "\n",
    "print('Apply the transformation')\n",
    "display(Math(latex(rx)+'='+latex(O**(-1))+latex(ru)))\n",
    "\n",
    "print('to get the region')\n",
    "display(E)\n",
    "display(EE)\n",
    "\n",
    "print('Apply the transformation')\n",
    "display(Math(latex(ru)+'='+latex(T)+latex(rs)))\n",
    "\n",
    "print('to get the region')\n",
    "display(F)\n",
    "display(FF)\n",
    "display(FFF)\n"
   ]
  }
 ],
 "metadata": {
  "interpreter": {
   "hash": "916dbcbb3f70747c44a77c7bcd40155683ae19c65e1c03b4aa3499c5328201f1"
  },
  "kernelspec": {
   "display_name": "Python 3.8.10 64-bit",
   "language": "python",
   "name": "python3"
  },
  "language_info": {
   "codemirror_mode": {
    "name": "ipython",
    "version": 3
   },
   "file_extension": ".py",
   "mimetype": "text/x-python",
   "name": "python",
   "nbconvert_exporter": "python",
   "pygments_lexer": "ipython3",
   "version": "3.8.10"
  },
  "orig_nbformat": 4
 },
 "nbformat": 4,
 "nbformat_minor": 2
}
