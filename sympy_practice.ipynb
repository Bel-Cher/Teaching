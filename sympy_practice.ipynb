{
 "cells": [
  {
   "cell_type": "code",
   "execution_count": 1,
   "metadata": {},
   "outputs": [
    {
     "data": {
      "text/latex": [
       "$\\displaystyle \\left[\\begin{matrix}\\frac{1}{4} & 0 & 0\\\\0 & \\frac{1}{9} & 0\\\\0 & 0 & \\frac{1}{25}\\end{matrix}\\right]$"
      ],
      "text/plain": [
       "Matrix([\n",
       "[1/4,   0,    0],\n",
       "[  0, 1/9,    0],\n",
       "[  0,   0, 1/25]])"
      ]
     },
     "metadata": {},
     "output_type": "display_data"
    },
    {
     "data": {
      "text/latex": [
       "$\\displaystyle \\left[\\begin{matrix}\\frac{\\sqrt{3}}{3} & \\frac{\\sqrt{3}}{3} & \\frac{\\sqrt{3}}{3}\\\\\\frac{\\sqrt{2}}{2} & - \\frac{\\sqrt{2}}{2} & 0\\\\- \\frac{\\sqrt{6}}{6} & - \\frac{\\sqrt{6}}{6} & \\frac{\\sqrt{6}}{3}\\end{matrix}\\right]$"
      ],
      "text/plain": [
       "Matrix([\n",
       "[ sqrt(3)/3,  sqrt(3)/3, sqrt(3)/3],\n",
       "[ sqrt(2)/2, -sqrt(2)/2,         0],\n",
       "[-sqrt(6)/6, -sqrt(6)/6, sqrt(6)/3]])"
      ]
     },
     "metadata": {},
     "output_type": "display_data"
    },
    {
     "data": {
      "text/latex": [
       "$\\displaystyle \\frac{1}{900}$"
      ],
      "text/plain": [
       "1/900"
      ]
     },
     "execution_count": 1,
     "metadata": {},
     "output_type": "execute_result"
    }
   ],
   "source": [
    "from sympy import *\n",
    "# Matrices\n",
    "D = nsimplify(Matrix([[Rational(1,4),0,0],[0,1/9,0],[0,0,1/25]]), tolerance = 0.001, rational = True)\n",
    "O = nsimplify(Matrix([[1/sqrt(3), 1/sqrt(3), 1/sqrt(3)],[1/sqrt(2),-1/sqrt(2),0],[-1/sqrt(6),-1/sqrt(6),2/sqrt(6)]]),tolerance = 0.001, rational = True)\n",
    "\n",
    "# Displaying things\n",
    "display(D)\n",
    "display(O)\n",
    "A = O**(-1)*D*O\n",
    "\n",
    "# Matrix Computations\n",
    "A.det()\n"
   ]
  },
  {
   "cell_type": "code",
   "execution_count": 177,
   "metadata": {},
   "outputs": [
    {
     "data": {
      "text/latex": [
       "$\\displaystyle \\frac{x^{2}}{4} + \\frac{y^{2}}{9} + \\frac{z^{2}}{25}$"
      ],
      "text/plain": [
       "x**2/4 + y**2/9 + z**2/25"
      ]
     },
     "metadata": {},
     "output_type": "display_data"
    },
    {
     "data": {
      "text/latex": [
       "$\\displaystyle f(x,y,z) = \\frac{x^{2}}{4} + \\frac{y^{2}}{9} + \\frac{z^{2}}{25}$"
      ],
      "text/plain": [
       "<IPython.core.display.Math object>"
      ]
     },
     "metadata": {},
     "output_type": "display_data"
    },
    {
     "data": {
      "text/latex": [
       "$\\displaystyle \\frac{949}{900}$"
      ],
      "text/plain": [
       "949/900"
      ]
     },
     "metadata": {},
     "output_type": "display_data"
    },
    {
     "data": {
      "text/latex": [
       "$\\displaystyle \\frac{x^{2}}{4} + \\frac{y^{2}}{9} + \\frac{z^{2}}{25} = 1$"
      ],
      "text/plain": [
       "Eq(x**2/4 + y**2/9 + z**2/25, 1)"
      ]
     },
     "metadata": {},
     "output_type": "display_data"
    },
    {
     "data": {
      "text/latex": [
       "$\\displaystyle \\frac{131 u^{2}}{900} + \\frac{31 u v}{450} + \\frac{7 u w}{50} + \\frac{131 v^{2}}{900} + \\frac{7 v w}{50} + \\frac{11 w^{2}}{100} = 1$"
      ],
      "text/plain": [
       "Eq(131*u**2/900 + 31*u*v/450 + 7*u*w/50 + 131*v**2/900 + 7*v*w/50 + 11*w**2/100, 1)"
      ]
     },
     "metadata": {},
     "output_type": "display_data"
    },
    {
     "data": {
      "text/latex": [
       "$\\displaystyle \\frac{131 u^{2}}{900} + \\frac{31 u v}{450} + \\frac{7 u w}{50} + \\frac{131 v^{2}}{900} + \\frac{7 v w}{50} + \\frac{11 w^{2}}{100} = 1$"
      ],
      "text/plain": [
       "Eq(131*u**2/900 + 31*u*v/450 + 7*u*w/50 + 131*v**2/900 + 7*v*w/50 + 11*w**2/100, 1)"
      ]
     },
     "metadata": {},
     "output_type": "display_data"
    },
    {
     "data": {
      "text/latex": [
       "$\\displaystyle \\frac{x^{2}}{4} + \\frac{y^{2}}{9} + \\frac{z^{2}}{25} = 1$"
      ],
      "text/plain": [
       "Eq(x**2/4 + y**2/9 + z**2/25, 1)"
      ]
     },
     "metadata": {},
     "output_type": "display_data"
    },
    {
     "data": {
      "text/plain": [
       "[-7*u/11 - 7*v/11 - 10*sqrt(-10*u**2 + 2*u*v - 10*v**2 + 99)/33,\n",
       " -7*u/11 - 7*v/11 + 10*sqrt(-10*u**2 + 2*u*v - 10*v**2 + 99)/33]"
      ]
     },
     "execution_count": 177,
     "metadata": {},
     "output_type": "execute_result"
    }
   ],
   "source": [
    "'''Functions and Euclidean transformations of the plane'''\n",
    "from IPython.display import Math, display\n",
    "\n",
    "f = Function('f')\n",
    "g = Function('g')\n",
    "\n",
    "# Defining symbols\n",
    "x, y, z = symbols('x y z')\n",
    "x, y, z = symbols('x:z')\n",
    "\n",
    "u, v, w = symbols('u:w')\n",
    "\n",
    "# Single brackets for vectors\n",
    "rx = Matrix([x, y, z])\n",
    "ru = Matrix([u, v, w])\n",
    "\n",
    "f = trace(rx.T*D*rx)\n",
    "#g = expand(trace(r2.T*D*r2))\n",
    "\n",
    "# Sympy can display an expresstion \n",
    "display(f) \n",
    "#display(g)\n",
    "\n",
    "# to get text with an expression we need Ipython\n",
    "display(Math('f(x,y,z) = '+latex(f))) \n",
    "\n",
    "# Evaluating multivariable function\n",
    "display(f.subs([(x,1),(y,2),(z,3)]))\n",
    "\n",
    "# Defining a surface based on an equation\n",
    "S = Eq(trace(rx.T*D*rx),1)\n",
    "E = nsimplify(expand(Eq(trace(ru.T*O.T*D*O*ru),1)))\n",
    "\n",
    "F = expand(S.subs([ (x, (O*ru)[0]), (y, (O*ru)[1]), (z, (O*ru)[2]) ]))\n",
    "\n",
    "G = simplify(expand(E.subs([ (u, (O**(-1)*rx)[0]), (v, (O**(-1)*rx)[1]), (w, (O**(-1)*rx)[2]) ])))\n",
    "\n",
    "display(S)\n",
    "display(E)\n",
    "display(F)\n",
    "display(G)\n",
    "\n",
    "g = solve(E, w)\n",
    "g\n"
   ]
  },
  {
   "cell_type": "code",
   "execution_count": 199,
   "metadata": {},
   "outputs": [
    {
     "data": {
      "text/latex": [
       "$\\displaystyle \\left[\\begin{matrix}\\frac{1}{4} & 0\\\\0 & \\frac{1}{9}\\end{matrix}\\right]$"
      ],
      "text/plain": [
       "Matrix([\n",
       "[1/4,   0],\n",
       "[  0, 1/9]])"
      ]
     },
     "metadata": {},
     "output_type": "display_data"
    },
    {
     "data": {
      "text/latex": [
       "$\\displaystyle \\left[\\begin{matrix}\\frac{\\sqrt{2}}{2} & \\frac{\\sqrt{2}}{2}\\\\\\frac{\\sqrt{2}}{2} & - \\frac{\\sqrt{2}}{2}\\end{matrix}\\right]$"
      ],
      "text/plain": [
       "Matrix([\n",
       "[sqrt(2)/2,  sqrt(2)/2],\n",
       "[sqrt(2)/2, -sqrt(2)/2]])"
      ]
     },
     "metadata": {},
     "output_type": "display_data"
    },
    {
     "name": "stdout",
     "output_type": "stream",
     "text": [
      "The region R given by:\n"
     ]
    },
    {
     "data": {
      "text/latex": [
       "$\\displaystyle \\frac{13 x^{2}}{72} + \\frac{5 x y}{36} + \\frac{13 y^{2}}{72} = 1$"
      ],
      "text/plain": [
       "Eq(13*x**2/72 + 5*x*y/36 + 13*y**2/72, 1)"
      ]
     },
     "metadata": {},
     "output_type": "display_data"
    },
    {
     "name": "stdout",
     "output_type": "stream",
     "text": [
      "Apply the transformation\n"
     ]
    },
    {
     "data": {
      "text/latex": [
       "$\\displaystyle \\left[\\begin{matrix}x\\\\y\\end{matrix}\\right]=\\left[\\begin{matrix}\\frac{\\sqrt{2}}{2} & \\frac{\\sqrt{2}}{2}\\\\\\frac{\\sqrt{2}}{2} & - \\frac{\\sqrt{2}}{2}\\end{matrix}\\right]\\left[\\begin{matrix}u\\\\v\\end{matrix}\\right]$"
      ],
      "text/plain": [
       "<IPython.core.display.Math object>"
      ]
     },
     "metadata": {},
     "output_type": "display_data"
    },
    {
     "name": "stdout",
     "output_type": "stream",
     "text": [
      "to get the region\n"
     ]
    },
    {
     "data": {
      "text/latex": [
       "$\\displaystyle \\frac{u^{2}}{4} + \\frac{v^{2}}{9} = 1$"
      ],
      "text/plain": [
       "Eq(u**2/4 + v**2/9, 1)"
      ]
     },
     "metadata": {},
     "output_type": "display_data"
    }
   ],
   "source": [
    "from sympy import *\n",
    "'''Matrices'''\n",
    "# Matrices\n",
    "D = nsimplify(Matrix([[Rational(1,4),0],[0,1/9]]), tolerance = 0.001, rational = True)\n",
    "O = nsimplify(Matrix([[1/sqrt(2), 1/sqrt(2)],[1/sqrt(2),-1/sqrt(2)]]),tolerance = 0.001, rational = True)\n",
    "\n",
    "# Displaying things\n",
    "display(D)\n",
    "display(O)\n",
    "A = O**(-1)*D*O\n",
    "\n",
    "\n",
    "'''Functions and Euclidean transformations of the plane'''\n",
    "from IPython.display import Math, display\n",
    "\n",
    "f = Function('f')\n",
    "g = Function('g')\n",
    "\n",
    "# Defining symbols\n",
    "x, y, z = symbols('x y z')\n",
    "x, y, z = symbols('x:z')\n",
    "\n",
    "u, v, w = symbols('u:w')\n",
    "\n",
    "# Single brackets for vectors\n",
    "rx = Matrix([x, y])\n",
    "ru = Matrix([u, v])\n",
    "\n",
    "\n",
    "\n",
    "\n",
    "\n",
    "f = trace(rx.T*D*rx)\n",
    "#g = expand(trace(r2.T*D*r2))\n",
    "\n",
    "# to get text with an expression we need Ipython\n",
    "#display(Math('f(x,y) = '+latex(f))) \n",
    "\n",
    "# Defining a surface based on an equation\n",
    "E = Eq(trace(rx.T*D*rx),1)\n",
    "\n",
    "\n",
    "R = nsimplify(expand(Eq(trace(ru.T*O.T*D*O*ru),1)))\n",
    "R = R.subs([(u,x),(v,y)])\n",
    "\n",
    "F = expand(R.subs([ (x, (O*ru)[0]), (y, (O*ru)[1]) ]))\n",
    "\n",
    "\n",
    "print('The region R given by:')\n",
    "display(R)\n",
    "\n",
    "print('Apply the transformation')\n",
    "display(Math(latex(rx)+'='+latex(O)+latex(ru)))\n",
    "print('to get the region')\n",
    "display(F)\n"
   ]
  },
  {
   "cell_type": "code",
   "execution_count": 176,
   "metadata": {},
   "outputs": [
    {
     "ename": "TypeError",
     "evalue": "Cannot convert expression to float",
     "output_type": "error",
     "traceback": [
      "\u001b[0;31m---------------------------------------------------------------------------\u001b[0m",
      "\u001b[0;31mTypeError\u001b[0m                                 Traceback (most recent call last)",
      "\u001b[1;32m/home/alpha/Tech/Programming/Python/sympy_practice.ipynb Cell 3'\u001b[0m in \u001b[0;36m<cell line: 14>\u001b[0;34m()\u001b[0m\n\u001b[1;32m     <a href='vscode-notebook-cell:/home/alpha/Tech/Programming/Python/sympy_practice.ipynb#ch0000007?line=9'>10</a>\u001b[0m g \u001b[39m=\u001b[39m g\u001b[39m.\u001b[39msubs(u,X)\u001b[39m.\u001b[39msubs(v,Y)\n\u001b[1;32m     <a href='vscode-notebook-cell:/home/alpha/Tech/Programming/Python/sympy_practice.ipynb#ch0000007?line=12'>13</a>\u001b[0m fig, ax \u001b[39m=\u001b[39m plt\u001b[39m.\u001b[39msubplots(\u001b[39m1\u001b[39m,\u001b[39m1\u001b[39m)\n\u001b[0;32m---> <a href='vscode-notebook-cell:/home/alpha/Tech/Programming/Python/sympy_practice.ipynb#ch0000007?line=13'>14</a>\u001b[0m cp \u001b[39m=\u001b[39m ax\u001b[39m.\u001b[39;49mcontourf(X, Y, g)\n\u001b[1;32m     <a href='vscode-notebook-cell:/home/alpha/Tech/Programming/Python/sympy_practice.ipynb#ch0000007?line=14'>15</a>\u001b[0m fig\u001b[39m.\u001b[39mcolorbar(cp) \u001b[39m# Add a colorbar to a plot\u001b[39;00m\n\u001b[1;32m     <a href='vscode-notebook-cell:/home/alpha/Tech/Programming/Python/sympy_practice.ipynb#ch0000007?line=15'>16</a>\u001b[0m ax\u001b[39m.\u001b[39mset_title(\u001b[39m'\u001b[39m\u001b[39mFilled Contours Plot\u001b[39m\u001b[39m'\u001b[39m)\n",
      "File \u001b[0;32m~/.local/lib/python3.8/site-packages/matplotlib/__init__.py:1412\u001b[0m, in \u001b[0;36m_preprocess_data.<locals>.inner\u001b[0;34m(ax, data, *args, **kwargs)\u001b[0m\n\u001b[1;32m   <a href='file:///home/alpha/.local/lib/python3.8/site-packages/matplotlib/__init__.py?line=1408'>1409</a>\u001b[0m \u001b[39m@functools\u001b[39m\u001b[39m.\u001b[39mwraps(func)\n\u001b[1;32m   <a href='file:///home/alpha/.local/lib/python3.8/site-packages/matplotlib/__init__.py?line=1409'>1410</a>\u001b[0m \u001b[39mdef\u001b[39;00m \u001b[39minner\u001b[39m(ax, \u001b[39m*\u001b[39margs, data\u001b[39m=\u001b[39m\u001b[39mNone\u001b[39;00m, \u001b[39m*\u001b[39m\u001b[39m*\u001b[39mkwargs):\n\u001b[1;32m   <a href='file:///home/alpha/.local/lib/python3.8/site-packages/matplotlib/__init__.py?line=1410'>1411</a>\u001b[0m     \u001b[39mif\u001b[39;00m data \u001b[39mis\u001b[39;00m \u001b[39mNone\u001b[39;00m:\n\u001b[0;32m-> <a href='file:///home/alpha/.local/lib/python3.8/site-packages/matplotlib/__init__.py?line=1411'>1412</a>\u001b[0m         \u001b[39mreturn\u001b[39;00m func(ax, \u001b[39m*\u001b[39;49m\u001b[39mmap\u001b[39;49m(sanitize_sequence, args), \u001b[39m*\u001b[39;49m\u001b[39m*\u001b[39;49mkwargs)\n\u001b[1;32m   <a href='file:///home/alpha/.local/lib/python3.8/site-packages/matplotlib/__init__.py?line=1413'>1414</a>\u001b[0m     bound \u001b[39m=\u001b[39m new_sig\u001b[39m.\u001b[39mbind(ax, \u001b[39m*\u001b[39margs, \u001b[39m*\u001b[39m\u001b[39m*\u001b[39mkwargs)\n\u001b[1;32m   <a href='file:///home/alpha/.local/lib/python3.8/site-packages/matplotlib/__init__.py?line=1414'>1415</a>\u001b[0m     auto_label \u001b[39m=\u001b[39m (bound\u001b[39m.\u001b[39marguments\u001b[39m.\u001b[39mget(label_namer)\n\u001b[1;32m   <a href='file:///home/alpha/.local/lib/python3.8/site-packages/matplotlib/__init__.py?line=1415'>1416</a>\u001b[0m                   \u001b[39mor\u001b[39;00m bound\u001b[39m.\u001b[39mkwargs\u001b[39m.\u001b[39mget(label_namer))\n",
      "File \u001b[0;32m~/.local/lib/python3.8/site-packages/matplotlib/axes/_axes.py:6317\u001b[0m, in \u001b[0;36mAxes.contourf\u001b[0;34m(self, *args, **kwargs)\u001b[0m\n\u001b[1;32m   <a href='file:///home/alpha/.local/lib/python3.8/site-packages/matplotlib/axes/_axes.py?line=6307'>6308</a>\u001b[0m \u001b[39m\"\"\"\u001b[39;00m\n\u001b[1;32m   <a href='file:///home/alpha/.local/lib/python3.8/site-packages/matplotlib/axes/_axes.py?line=6308'>6309</a>\u001b[0m \u001b[39mPlot filled contours.\u001b[39;00m\n\u001b[1;32m   <a href='file:///home/alpha/.local/lib/python3.8/site-packages/matplotlib/axes/_axes.py?line=6309'>6310</a>\u001b[0m \n\u001b[0;32m   (...)\u001b[0m\n\u001b[1;32m   <a href='file:///home/alpha/.local/lib/python3.8/site-packages/matplotlib/axes/_axes.py?line=6313'>6314</a>\u001b[0m \u001b[39m%(contour_doc)s\u001b[39;00m\n\u001b[1;32m   <a href='file:///home/alpha/.local/lib/python3.8/site-packages/matplotlib/axes/_axes.py?line=6314'>6315</a>\u001b[0m \u001b[39m\"\"\"\u001b[39;00m\n\u001b[1;32m   <a href='file:///home/alpha/.local/lib/python3.8/site-packages/matplotlib/axes/_axes.py?line=6315'>6316</a>\u001b[0m kwargs[\u001b[39m'\u001b[39m\u001b[39mfilled\u001b[39m\u001b[39m'\u001b[39m] \u001b[39m=\u001b[39m \u001b[39mTrue\u001b[39;00m\n\u001b[0;32m-> <a href='file:///home/alpha/.local/lib/python3.8/site-packages/matplotlib/axes/_axes.py?line=6316'>6317</a>\u001b[0m contours \u001b[39m=\u001b[39m mcontour\u001b[39m.\u001b[39;49mQuadContourSet(\u001b[39mself\u001b[39;49m, \u001b[39m*\u001b[39;49margs, \u001b[39m*\u001b[39;49m\u001b[39m*\u001b[39;49mkwargs)\n\u001b[1;32m   <a href='file:///home/alpha/.local/lib/python3.8/site-packages/matplotlib/axes/_axes.py?line=6317'>6318</a>\u001b[0m \u001b[39mself\u001b[39m\u001b[39m.\u001b[39m_request_autoscale_view()\n\u001b[1;32m   <a href='file:///home/alpha/.local/lib/python3.8/site-packages/matplotlib/axes/_axes.py?line=6318'>6319</a>\u001b[0m \u001b[39mreturn\u001b[39;00m contours\n",
      "File \u001b[0;32m~/.local/lib/python3.8/site-packages/matplotlib/contour.py:812\u001b[0m, in \u001b[0;36mContourSet.__init__\u001b[0;34m(self, ax, levels, filled, linewidths, linestyles, hatches, alpha, origin, extent, cmap, colors, norm, vmin, vmax, extend, antialiased, nchunk, locator, transform, *args, **kwargs)\u001b[0m\n\u001b[1;32m    <a href='file:///home/alpha/.local/lib/python3.8/site-packages/matplotlib/contour.py?line=807'>808</a>\u001b[0m     \u001b[39mself\u001b[39m\u001b[39m.\u001b[39morigin \u001b[39m=\u001b[39m mpl\u001b[39m.\u001b[39mrcParams[\u001b[39m'\u001b[39m\u001b[39mimage.origin\u001b[39m\u001b[39m'\u001b[39m]\n\u001b[1;32m    <a href='file:///home/alpha/.local/lib/python3.8/site-packages/matplotlib/contour.py?line=809'>810</a>\u001b[0m \u001b[39mself\u001b[39m\u001b[39m.\u001b[39m_transform \u001b[39m=\u001b[39m transform\n\u001b[0;32m--> <a href='file:///home/alpha/.local/lib/python3.8/site-packages/matplotlib/contour.py?line=811'>812</a>\u001b[0m kwargs \u001b[39m=\u001b[39m \u001b[39mself\u001b[39;49m\u001b[39m.\u001b[39;49m_process_args(\u001b[39m*\u001b[39;49margs, \u001b[39m*\u001b[39;49m\u001b[39m*\u001b[39;49mkwargs)\n\u001b[1;32m    <a href='file:///home/alpha/.local/lib/python3.8/site-packages/matplotlib/contour.py?line=812'>813</a>\u001b[0m \u001b[39mself\u001b[39m\u001b[39m.\u001b[39m_process_levels()\n\u001b[1;32m    <a href='file:///home/alpha/.local/lib/python3.8/site-packages/matplotlib/contour.py?line=814'>815</a>\u001b[0m \u001b[39mself\u001b[39m\u001b[39m.\u001b[39m_extend_min \u001b[39m=\u001b[39m \u001b[39mself\u001b[39m\u001b[39m.\u001b[39mextend \u001b[39min\u001b[39;00m [\u001b[39m'\u001b[39m\u001b[39mmin\u001b[39m\u001b[39m'\u001b[39m, \u001b[39m'\u001b[39m\u001b[39mboth\u001b[39m\u001b[39m'\u001b[39m]\n",
      "File \u001b[0;32m~/.local/lib/python3.8/site-packages/matplotlib/contour.py:1441\u001b[0m, in \u001b[0;36mQuadContourSet._process_args\u001b[0;34m(self, corner_mask, *args, **kwargs)\u001b[0m\n\u001b[1;32m   <a href='file:///home/alpha/.local/lib/python3.8/site-packages/matplotlib/contour.py?line=1437'>1438</a>\u001b[0m     corner_mask \u001b[39m=\u001b[39m mpl\u001b[39m.\u001b[39mrcParams[\u001b[39m'\u001b[39m\u001b[39mcontour.corner_mask\u001b[39m\u001b[39m'\u001b[39m]\n\u001b[1;32m   <a href='file:///home/alpha/.local/lib/python3.8/site-packages/matplotlib/contour.py?line=1438'>1439</a>\u001b[0m \u001b[39mself\u001b[39m\u001b[39m.\u001b[39m_corner_mask \u001b[39m=\u001b[39m corner_mask\n\u001b[0;32m-> <a href='file:///home/alpha/.local/lib/python3.8/site-packages/matplotlib/contour.py?line=1440'>1441</a>\u001b[0m x, y, z \u001b[39m=\u001b[39m \u001b[39mself\u001b[39;49m\u001b[39m.\u001b[39;49m_contour_args(args, kwargs)\n\u001b[1;32m   <a href='file:///home/alpha/.local/lib/python3.8/site-packages/matplotlib/contour.py?line=1442'>1443</a>\u001b[0m _mask \u001b[39m=\u001b[39m ma\u001b[39m.\u001b[39mgetmask(z)\n\u001b[1;32m   <a href='file:///home/alpha/.local/lib/python3.8/site-packages/matplotlib/contour.py?line=1443'>1444</a>\u001b[0m \u001b[39mif\u001b[39;00m _mask \u001b[39mis\u001b[39;00m ma\u001b[39m.\u001b[39mnomask \u001b[39mor\u001b[39;00m \u001b[39mnot\u001b[39;00m _mask\u001b[39m.\u001b[39many():\n",
      "File \u001b[0;32m~/.local/lib/python3.8/site-packages/matplotlib/contour.py:1480\u001b[0m, in \u001b[0;36mQuadContourSet._contour_args\u001b[0;34m(self, args, kwargs)\u001b[0m\n\u001b[1;32m   <a href='file:///home/alpha/.local/lib/python3.8/site-packages/matplotlib/contour.py?line=1477'>1478</a>\u001b[0m     args \u001b[39m=\u001b[39m args[\u001b[39m1\u001b[39m:]\n\u001b[1;32m   <a href='file:///home/alpha/.local/lib/python3.8/site-packages/matplotlib/contour.py?line=1478'>1479</a>\u001b[0m \u001b[39melif\u001b[39;00m Nargs \u001b[39m<\u001b[39m\u001b[39m=\u001b[39m \u001b[39m4\u001b[39m:\n\u001b[0;32m-> <a href='file:///home/alpha/.local/lib/python3.8/site-packages/matplotlib/contour.py?line=1479'>1480</a>\u001b[0m     x, y, z \u001b[39m=\u001b[39m \u001b[39mself\u001b[39;49m\u001b[39m.\u001b[39;49m_check_xyz(args[:\u001b[39m3\u001b[39;49m], kwargs)\n\u001b[1;32m   <a href='file:///home/alpha/.local/lib/python3.8/site-packages/matplotlib/contour.py?line=1480'>1481</a>\u001b[0m     args \u001b[39m=\u001b[39m args[\u001b[39m3\u001b[39m:]\n\u001b[1;32m   <a href='file:///home/alpha/.local/lib/python3.8/site-packages/matplotlib/contour.py?line=1481'>1482</a>\u001b[0m \u001b[39melse\u001b[39;00m:\n",
      "File \u001b[0;32m~/.local/lib/python3.8/site-packages/matplotlib/contour.py:1505\u001b[0m, in \u001b[0;36mQuadContourSet._check_xyz\u001b[0;34m(self, args, kwargs)\u001b[0m\n\u001b[1;32m   <a href='file:///home/alpha/.local/lib/python3.8/site-packages/matplotlib/contour.py?line=1502'>1503</a>\u001b[0m x \u001b[39m=\u001b[39m np\u001b[39m.\u001b[39masarray(x, dtype\u001b[39m=\u001b[39mnp\u001b[39m.\u001b[39mfloat64)\n\u001b[1;32m   <a href='file:///home/alpha/.local/lib/python3.8/site-packages/matplotlib/contour.py?line=1503'>1504</a>\u001b[0m y \u001b[39m=\u001b[39m np\u001b[39m.\u001b[39masarray(y, dtype\u001b[39m=\u001b[39mnp\u001b[39m.\u001b[39mfloat64)\n\u001b[0;32m-> <a href='file:///home/alpha/.local/lib/python3.8/site-packages/matplotlib/contour.py?line=1504'>1505</a>\u001b[0m z \u001b[39m=\u001b[39m ma\u001b[39m.\u001b[39;49masarray(args[\u001b[39m2\u001b[39;49m], dtype\u001b[39m=\u001b[39;49mnp\u001b[39m.\u001b[39;49mfloat64)\n\u001b[1;32m   <a href='file:///home/alpha/.local/lib/python3.8/site-packages/matplotlib/contour.py?line=1506'>1507</a>\u001b[0m \u001b[39mif\u001b[39;00m z\u001b[39m.\u001b[39mndim \u001b[39m!=\u001b[39m \u001b[39m2\u001b[39m:\n\u001b[1;32m   <a href='file:///home/alpha/.local/lib/python3.8/site-packages/matplotlib/contour.py?line=1507'>1508</a>\u001b[0m     \u001b[39mraise\u001b[39;00m \u001b[39mTypeError\u001b[39;00m(\u001b[39mf\u001b[39m\u001b[39m\"\u001b[39m\u001b[39mInput z must be 2D, not \u001b[39m\u001b[39m{\u001b[39;00mz\u001b[39m.\u001b[39mndim\u001b[39m}\u001b[39;00m\u001b[39mD\u001b[39m\u001b[39m\"\u001b[39m)\n",
      "File \u001b[0;32m~/.local/lib/python3.8/site-packages/numpy/ma/core.py:7955\u001b[0m, in \u001b[0;36masarray\u001b[0;34m(a, dtype, order)\u001b[0m\n\u001b[1;32m   <a href='file:///home/alpha/.local/lib/python3.8/site-packages/numpy/ma/core.py?line=7910'>7911</a>\u001b[0m \u001b[39m\"\"\"\u001b[39;00m\n\u001b[1;32m   <a href='file:///home/alpha/.local/lib/python3.8/site-packages/numpy/ma/core.py?line=7911'>7912</a>\u001b[0m \u001b[39mConvert the input to a masked array of the given data-type.\u001b[39;00m\n\u001b[1;32m   <a href='file:///home/alpha/.local/lib/python3.8/site-packages/numpy/ma/core.py?line=7912'>7913</a>\u001b[0m \n\u001b[0;32m   (...)\u001b[0m\n\u001b[1;32m   <a href='file:///home/alpha/.local/lib/python3.8/site-packages/numpy/ma/core.py?line=7951'>7952</a>\u001b[0m \n\u001b[1;32m   <a href='file:///home/alpha/.local/lib/python3.8/site-packages/numpy/ma/core.py?line=7952'>7953</a>\u001b[0m \u001b[39m\"\"\"\u001b[39;00m\n\u001b[1;32m   <a href='file:///home/alpha/.local/lib/python3.8/site-packages/numpy/ma/core.py?line=7953'>7954</a>\u001b[0m order \u001b[39m=\u001b[39m order \u001b[39mor\u001b[39;00m \u001b[39m'\u001b[39m\u001b[39mC\u001b[39m\u001b[39m'\u001b[39m\n\u001b[0;32m-> <a href='file:///home/alpha/.local/lib/python3.8/site-packages/numpy/ma/core.py?line=7954'>7955</a>\u001b[0m \u001b[39mreturn\u001b[39;00m masked_array(a, dtype\u001b[39m=\u001b[39;49mdtype, copy\u001b[39m=\u001b[39;49m\u001b[39mFalse\u001b[39;49;00m, keep_mask\u001b[39m=\u001b[39;49m\u001b[39mTrue\u001b[39;49;00m,\n\u001b[1;32m   <a href='file:///home/alpha/.local/lib/python3.8/site-packages/numpy/ma/core.py?line=7955'>7956</a>\u001b[0m                     subok\u001b[39m=\u001b[39;49m\u001b[39mFalse\u001b[39;49;00m, order\u001b[39m=\u001b[39;49morder)\n",
      "File \u001b[0;32m~/.local/lib/python3.8/site-packages/numpy/ma/core.py:2826\u001b[0m, in \u001b[0;36mMaskedArray.__new__\u001b[0;34m(cls, data, mask, dtype, copy, subok, ndmin, fill_value, keep_mask, hard_mask, shrink, order)\u001b[0m\n\u001b[1;32m   <a href='file:///home/alpha/.local/lib/python3.8/site-packages/numpy/ma/core.py?line=2816'>2817</a>\u001b[0m \u001b[39m\"\"\"\u001b[39;00m\n\u001b[1;32m   <a href='file:///home/alpha/.local/lib/python3.8/site-packages/numpy/ma/core.py?line=2817'>2818</a>\u001b[0m \u001b[39mCreate a new masked array from scratch.\u001b[39;00m\n\u001b[1;32m   <a href='file:///home/alpha/.local/lib/python3.8/site-packages/numpy/ma/core.py?line=2818'>2819</a>\u001b[0m \n\u001b[0;32m   (...)\u001b[0m\n\u001b[1;32m   <a href='file:///home/alpha/.local/lib/python3.8/site-packages/numpy/ma/core.py?line=2822'>2823</a>\u001b[0m \n\u001b[1;32m   <a href='file:///home/alpha/.local/lib/python3.8/site-packages/numpy/ma/core.py?line=2823'>2824</a>\u001b[0m \u001b[39m\"\"\"\u001b[39;00m\n\u001b[1;32m   <a href='file:///home/alpha/.local/lib/python3.8/site-packages/numpy/ma/core.py?line=2824'>2825</a>\u001b[0m \u001b[39m# Process data.\u001b[39;00m\n\u001b[0;32m-> <a href='file:///home/alpha/.local/lib/python3.8/site-packages/numpy/ma/core.py?line=2825'>2826</a>\u001b[0m _data \u001b[39m=\u001b[39m np\u001b[39m.\u001b[39;49marray(data, dtype\u001b[39m=\u001b[39;49mdtype, copy\u001b[39m=\u001b[39;49mcopy,\n\u001b[1;32m   <a href='file:///home/alpha/.local/lib/python3.8/site-packages/numpy/ma/core.py?line=2826'>2827</a>\u001b[0m                  order\u001b[39m=\u001b[39;49morder, subok\u001b[39m=\u001b[39;49m\u001b[39mTrue\u001b[39;49;00m, ndmin\u001b[39m=\u001b[39;49mndmin)\n\u001b[1;32m   <a href='file:///home/alpha/.local/lib/python3.8/site-packages/numpy/ma/core.py?line=2827'>2828</a>\u001b[0m _baseclass \u001b[39m=\u001b[39m \u001b[39mgetattr\u001b[39m(data, \u001b[39m'\u001b[39m\u001b[39m_baseclass\u001b[39m\u001b[39m'\u001b[39m, \u001b[39mtype\u001b[39m(_data))\n\u001b[1;32m   <a href='file:///home/alpha/.local/lib/python3.8/site-packages/numpy/ma/core.py?line=2828'>2829</a>\u001b[0m \u001b[39m# Check that we're not erasing the mask.\u001b[39;00m\n",
      "File \u001b[0;32m/usr/local/lib/python3.8/dist-packages/sympy/core/expr.py:345\u001b[0m, in \u001b[0;36mExpr.__float__\u001b[0;34m(self)\u001b[0m\n\u001b[1;32m    <a href='file:///usr/local/lib/python3.8/dist-packages/sympy/core/expr.py?line=342'>343</a>\u001b[0m \u001b[39mif\u001b[39;00m result\u001b[39m.\u001b[39mis_number \u001b[39mand\u001b[39;00m result\u001b[39m.\u001b[39mas_real_imag()[\u001b[39m1\u001b[39m]:\n\u001b[1;32m    <a href='file:///usr/local/lib/python3.8/dist-packages/sympy/core/expr.py?line=343'>344</a>\u001b[0m     \u001b[39mraise\u001b[39;00m \u001b[39mTypeError\u001b[39;00m(\u001b[39m\"\u001b[39m\u001b[39mCannot convert complex to float\u001b[39m\u001b[39m\"\u001b[39m)\n\u001b[0;32m--> <a href='file:///usr/local/lib/python3.8/dist-packages/sympy/core/expr.py?line=344'>345</a>\u001b[0m \u001b[39mraise\u001b[39;00m \u001b[39mTypeError\u001b[39;00m(\u001b[39m\"\u001b[39m\u001b[39mCannot convert expression to float\u001b[39m\u001b[39m\"\u001b[39m)\n",
      "\u001b[0;31mTypeError\u001b[0m: Cannot convert expression to float"
     ]
    },
    {
     "data": {
      "image/png": "[encoded data removed]",
      "text/plain": [
       "<Figure size 432x288 with 1 Axes>"
      ]
     },
     "metadata": {
      "needs_background": "light"
     },
     "output_type": "display_data"
    }
   ],
   "source": [
    "'''Plotting Contours'''\n",
    "import numpy as np\n",
    "import matplotlib.pyplot as plt\n",
    "\n",
    "\n",
    "xlist = np.linspace(-3.0, 3.0, 100)\n",
    "ylist = np.linspace(-3.0, 3.0, 100)\n",
    "\n",
    "X, Y = np.meshgrid(xlist, ylist)\n",
    "g = g.subs(u,X).subs(v,Y)\n",
    "\n",
    "\n",
    "fig, ax = plt.subplots(1,1)\n",
    "cp = ax.contourf(X, Y, g)\n",
    "fig.colorbar(cp) # Add a colorbar to a plot\n",
    "ax.set_title('Filled Contours Plot')\n",
    "\n",
    "#ax.set_xlabel('x (cm)')\n",
    "ax.set_ylabel('y (cm)')\n",
    "plt.show()"
   ]
  },
  {
   "cell_type": "code",
   "execution_count": 161,
   "metadata": {},
   "outputs": [
    {
     "data": {
      "image/png": "[encoded data removed]",
      "text/plain": [
       "<Figure size 432x288 with 2 Axes>"
      ]
     },
     "metadata": {
      "needs_background": "light"
     },
     "output_type": "display_data"
    }
   ],
   "source": [
    "'''Plotting Contours'''\n",
    "import numpy as np\n",
    "import matplotlib.pyplot as plt\n",
    "\n",
    "\n",
    "xlist = np.linspace(-3.0, 3.0, 100)\n",
    "ylist = np.linspace(-3.0, 3.0, 100)\n",
    "\n",
    "X, Y = np.meshgrid(xlist, ylist)\n",
    "Z = np.sqrt(X**2 + Y**2)\n",
    "\n",
    "fig, ax = plt.subplots(1,1)\n",
    "cp = ax.contourf(X, Y, Z)\n",
    "fig.colorbar(cp) # Add a colorbar to a plot\n",
    "ax.set_title('Filled Contours Plot')\n",
    "\n",
    "#ax.set_xlabel('x (cm)')\n",
    "ax.set_ylabel('y (cm)')\n",
    "plt.show()"
   ]
  },
  {
   "cell_type": "code",
   "execution_count": 163,
   "metadata": {},
   "outputs": [
    {
     "data": {
      "image/png": "[encoded data removed]",
      "text/plain": [
       "<Figure size 432x288 with 1 Axes>"
      ]
     },
     "metadata": {
      "needs_background": "light"
     },
     "output_type": "display_data"
    }
   ],
   "source": [
    "'''Plotting Contours'''\n",
    "\n",
    "plt.figure()                        # Create a new figure window\n",
    "xlist = np.linspace(-2.0, 1.0, 100) # Create 1-D arrays for x,y dimensions\n",
    "ylist = np.linspace(-1.0, 2.0, 100)\n",
    "X,Y = np.meshgrid(xlist, ylist)     # Create 2-D grid xlist,ylist values\n",
    "Z = np.sqrt(X**2 + Y**2)            # Compute function values on the grid\n",
    "\n",
    "plt.contour(X, Y, Z, [0.5, 1.0, 1.2, 1.5], colors = 'k', linestyles = 'solid')\n",
    "plt.show()"
   ]
  },
  {
   "cell_type": "code",
   "execution_count": null,
   "metadata": {},
   "outputs": [],
   "source": [
    "\n",
    "\n",
    "b = IndexedBase('b')\n"
   ]
  },
  {
   "cell_type": "code",
   "execution_count": 178,
   "metadata": {},
   "outputs": [
    {
     "data": {
      "image/png": "[encoded data removed]",
      "text/plain": [
       "<Figure size 432x288 with 1 Axes>"
      ]
     },
     "metadata": {
      "needs_background": "light"
     },
     "output_type": "display_data"
    }
   ],
   "source": [
    "import matplotlib.pyplot as plt\n",
    "import numpy as np\n",
    "\n",
    "# 100 linearly spaced numbers\n",
    "x = np.linspace(-np.pi,np.pi,100)\n",
    "\n",
    "# the functions, which are y = sin(x) and z = cos(x) here\n",
    "y = np.sin(x)\n",
    "z = np.cos(x)\n",
    "\n",
    "# setting the axes at the centre\n",
    "fig = plt.figure()\n",
    "ax = fig.add_subplot(1, 1, 1)\n",
    "ax.spines['left'].set_position('center')\n",
    "ax.spines['bottom'].set_position('center')\n",
    "ax.spines['right'].set_color('none')\n",
    "ax.spines['top'].set_color('none')\n",
    "ax.xaxis.set_ticks_position('bottom')\n",
    "ax.yaxis.set_ticks_position('left')\n",
    "\n",
    "# plot the functions\n",
    "plt.plot(x,y, 'c', label='y=sin(x)')\n",
    "plt.plot(x,z, 'm', label='y=cos(x)')\n",
    "\n",
    "plt.legend(loc='upper left')\n",
    "\n",
    "# show the plot\n",
    "plt.show()\n",
    "\n"
   ]
  },
  {
   "cell_type": "code",
   "execution_count": 179,
   "metadata": {},
   "outputs": [
    {
     "data": {
      "image/png": "[encoded data removed]",
      "text/plain": [
       "<Figure size 432x288 with 1 Axes>"
      ]
     },
     "metadata": {
      "needs_background": "light"
     },
     "output_type": "display_data"
    }
   ],
   "source": [
    "from matplotlib import pyplot as plt\n",
    "import numpy as np\n",
    "import math #needed for definition of pi\n",
    "\n",
    "x= np.arange(0, math.pi*2, 0.05)\n",
    "y = np.tan(x)\n",
    "plt.plot(x,y)\n",
    "plt.xlabel(\"angle\")\n",
    "plt.ylabel(\"Tan value\")\n",
    "plt.title('Tan wave')\n",
    "plt.show()"
   ]
  }
 ],
 "metadata": {
  "interpreter": {
   "hash": "916dbcbb3f70747c44a77c7bcd40155683ae19c65e1c03b4aa3499c5328201f1"
  },
  "kernelspec": {
   "display_name": "Python 3.8.10 64-bit",
   "language": "python",
   "name": "python3"
  },
  "language_info": {
   "codemirror_mode": {
    "name": "ipython",
    "version": 3
   },
   "file_extension": ".py",
   "mimetype": "text/x-python",
   "name": "python",
   "nbconvert_exporter": "python",
   "pygments_lexer": "ipython3",
   "version": "3.8.10"
  },
  "orig_nbformat": 4
 },
 "nbformat": 4,
 "nbformat_minor": 2
}
